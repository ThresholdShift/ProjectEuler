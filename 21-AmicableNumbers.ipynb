{
  "cells": [
    {
      "cell_type": "code",
      "source": [
        "function divisor_sum(n)\n",
        "  sum = 0;\n",
        "  for ii = 1:n/2\n",
        "    if(n % ii == 0)\n",
        "      sum += ii;\n",
        "    end\n",
        "  end\n",
        "  return sum;\n",
        "end"
      ],
      "outputs": [
        {
          "output_type": "execute_result",
          "execution_count": 7,
          "data": {
            "text/plain": "divisor_sum (generic function with 1 method)"
          },
          "metadata": {}
        }
      ],
      "execution_count": 7,
      "metadata": {
        "collapsed": true,
        "jupyter": {
          "source_hidden": false,
          "outputs_hidden": false
        },
        "nteract": {
          "transient": {
            "deleting": false
          }
        },
        "execution": {
          "iopub.status.busy": "2020-09-13T05:21:27.424Z",
          "iopub.execute_input": "2020-09-13T05:21:27.430Z",
          "iopub.status.idle": "2020-09-13T05:21:27.443Z"
        }
      }
    },
    {
      "cell_type": "code",
      "source": [
        "# Create a list booleans to represent all numbers under max value (10000).\n",
        "# This will allow me to avoid testing a number that can't  be amicable.\n",
        "max_num = 10000;\n",
        "num_list = fill(true, (1,max_num*20000));\n",
        "num_list[Int(28.0)]"
      ],
      "outputs": [
        {
          "output_type": "execute_result",
          "execution_count": 8,
          "data": {
            "text/plain": "true"
          },
          "metadata": {}
        }
      ],
      "execution_count": 8,
      "metadata": {
        "collapsed": true,
        "jupyter": {
          "source_hidden": false,
          "outputs_hidden": false
        },
        "nteract": {
          "transient": {
            "deleting": false
          }
        },
        "execution": {
          "iopub.status.busy": "2020-09-13T05:21:27.451Z",
          "iopub.execute_input": "2020-09-13T05:21:27.455Z",
          "iopub.status.idle": "2020-09-13T05:21:27.463Z"
        }
      }
    },
    {
      "cell_type": "code",
      "source": [
        "x = divisor_sum(220)\n",
        "x == divisor_sum(divisor_sum(x))"
      ],
      "outputs": [
        {
          "output_type": "execute_result",
          "execution_count": 10,
          "data": {
            "text/plain": "true"
          },
          "metadata": {}
        }
      ],
      "execution_count": 10,
      "metadata": {
        "collapsed": true,
        "jupyter": {
          "source_hidden": false,
          "outputs_hidden": false
        },
        "nteract": {
          "transient": {
            "deleting": false
          }
        },
        "execution": {
          "iopub.status.busy": "2020-09-13T05:21:31.490Z",
          "iopub.execute_input": "2020-09-13T05:21:31.494Z",
          "iopub.status.idle": "2020-09-13T05:21:31.506Z"
        }
      }
    },
    {
      "cell_type": "markdown",
      "source": [
        "sum = 0;\n",
        "for ii = 2:(max_num-1)\n",
        "  if(num_list[Int(ii)])\n",
        "    d = divisor_sum(ii);\n",
        "    if(num_list[Int(d)])\n",
        "      if(ii == divisor_sum(d))\n",
        "        sum += (d + ii);\n",
        "      end\n",
        "    end\n",
        "    num_list[Int(d)] = false;\n",
        "  end\n",
        "  num_list[Int(ii)] = false;\n",
        "end\n",
        "sum"
      ],
      "metadata": {
        "nteract": {
          "transient": {
            "deleting": false
          }
        }
      }
    },
    {
      "cell_type": "code",
      "source": [
        "sum = 0;\n",
        "for ii = 2:max_num\n",
        "  d = divisor_sum(ii);\n",
        "  if(ii == divisor_sum(d) && ii != d)\n",
        "      sum += ii;\n",
        "  end\n",
        "end\n",
        "sum"
      ],
      "outputs": [
        {
          "output_type": "execute_result",
          "execution_count": 15,
          "data": {
            "text/plain": "31626"
          },
          "metadata": {}
        }
      ],
      "execution_count": 15,
      "metadata": {
        "collapsed": true,
        "jupyter": {
          "source_hidden": false,
          "outputs_hidden": false
        },
        "nteract": {
          "transient": {
            "deleting": false
          }
        },
        "execution": {
          "iopub.status.busy": "2020-09-13T05:24:51.375Z",
          "iopub.execute_input": "2020-09-13T05:24:51.382Z",
          "iopub.status.idle": "2020-09-13T05:24:52.222Z"
        }
      }
    },
    {
      "cell_type": "code",
      "source": [],
      "outputs": [],
      "execution_count": null,
      "metadata": {
        "collapsed": true,
        "jupyter": {
          "source_hidden": false,
          "outputs_hidden": false
        },
        "nteract": {
          "transient": {
            "deleting": false
          }
        }
      }
    }
  ],
  "metadata": {
    "kernel_info": {
      "name": "julia-1.5"
    },
    "language_info": {
      "file_extension": ".jl",
      "name": "julia",
      "mimetype": "application/julia",
      "version": "1.5.1"
    },
    "kernelspec": {
      "argv": [
        "C:\\Users\\jwrus\\AppData\\Local\\Programs\\Julia 1.5.1\\bin\\julia.exe",
        "-i",
        "--startup-file=yes",
        "--color=yes",
        "--project=@.",
        "C:\\Users\\jwrus\\.julia\\packages\\IJulia\\tOM8L\\src\\kernel.jl",
        "{connection_file}"
      ],
      "display_name": "Julia 1.5.1",
      "env": {},
      "interrupt_mode": "message",
      "language": "julia",
      "name": "julia-1.5"
    },
    "nteract": {
      "version": "0.25.0"
    }
  },
  "nbformat": 4,
  "nbformat_minor": 0
}