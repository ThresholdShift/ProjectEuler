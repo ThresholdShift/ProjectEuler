{
  "cells": [
    {
      "cell_type": "code",
      "source": [
        "sum = 0;\n",
        "x = 1;\n",
        "y = 1;\n",
        "\n",
        "while y<4e6\n",
        "  temp = y;\n",
        "  y = x+y;\n",
        "  x = temp;\n",
        "  if(y%2==0)\n",
        "    sum += y;\n",
        "  end\n",
        "end\n",
        "sum"
      ],
      "outputs": [
        {
          "output_type": "execute_result",
          "execution_count": 6,
          "data": {
            "text/plain": "4613732"
          },
          "metadata": {}
        }
      ],
      "execution_count": 6,
      "metadata": {
        "collapsed": true,
        "jupyter": {
          "source_hidden": false,
          "outputs_hidden": false
        },
        "nteract": {
          "transient": {
            "deleting": false
          }
        },
        "execution": {
          "iopub.status.busy": "2020-09-12T05:11:32.962Z",
          "iopub.execute_input": "2020-09-12T05:11:32.966Z",
          "iopub.status.idle": "2020-09-12T05:11:32.973Z"
        }
      }
    }
  ],
  "metadata": {
    "kernel_info": {
      "name": "julia-1.5"
    },
    "language_info": {
      "file_extension": ".jl",
      "name": "julia",
      "mimetype": "application/julia",
      "version": "1.5.1"
    },
    "kernelspec": {
      "argv": [
        "C:\\Users\\jwrus\\AppData\\Local\\Programs\\Julia 1.5.1\\bin\\julia.exe",
        "-i",
        "--startup-file=yes",
        "--color=yes",
        "--project=@.",
        "C:\\Users\\jwrus\\.julia\\packages\\IJulia\\tOM8L\\src\\kernel.jl",
        "{connection_file}"
      ],
      "display_name": "Julia 1.5.1",
      "env": {},
      "interrupt_mode": "message",
      "language": "julia",
      "name": "julia-1.5"
    },
    "nteract": {
      "version": "0.25.0"
    }
  },
  "nbformat": 4,
  "nbformat_minor": 0
}