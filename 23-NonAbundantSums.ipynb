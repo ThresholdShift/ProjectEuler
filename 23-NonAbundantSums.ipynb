{
  "cells": [
    {
      "cell_type": "code",
      "source": [
        "# declare whatever constants are needed\n",
        "max_num = 20161;"
      ],
      "outputs": [],
      "execution_count": 67,
      "metadata": {
        "collapsed": true,
        "jupyter": {
          "source_hidden": false,
          "outputs_hidden": false
        },
        "nteract": {
          "transient": {
            "deleting": false
          }
        },
        "execution": {
          "iopub.status.busy": "2020-09-13T01:57:06.995Z",
          "iopub.execute_input": "2020-09-13T01:57:07.003Z",
          "iopub.status.idle": "2020-09-13T01:57:07.009Z"
        }
      }
    },
    {
      "cell_type": "code",
      "source": [
        "# start creating a function to determine if a number is abundant\n",
        "function is_abundant(n)\n",
        "  sum = 0;\n",
        "  for ii in 1:n/2\n",
        "    if( n % ii == 0)\n",
        "      sum += ii;\n",
        "    end\n",
        "  end\n",
        "  return (sum > n)\n",
        "end"
      ],
      "outputs": [
        {
          "output_type": "execute_result",
          "execution_count": 68,
          "data": {
            "text/plain": "is_abundant (generic function with 1 method)"
          },
          "metadata": {}
        }
      ],
      "execution_count": 68,
      "metadata": {
        "collapsed": true,
        "jupyter": {
          "source_hidden": false,
          "outputs_hidden": false
        },
        "nteract": {
          "transient": {
            "deleting": false
          }
        },
        "execution": {
          "iopub.status.busy": "2020-09-13T01:57:07.015Z",
          "iopub.execute_input": "2020-09-13T01:57:07.021Z",
          "iopub.status.idle": "2020-09-13T01:57:07.028Z"
        }
      }
    },
    {
      "cell_type": "code",
      "source": [
        "# then generate a list of all abundant numbers less than 28123\n",
        "abundants = [];\n",
        "for ii in 1:max_num\n",
        "  if(is_abundant(ii))\n",
        "    push!(abundants, ii);\n",
        "  end\n",
        "end"
      ],
      "outputs": [],
      "execution_count": 69,
      "metadata": {
        "collapsed": true,
        "jupyter": {
          "source_hidden": false,
          "outputs_hidden": false
        },
        "nteract": {
          "transient": {
            "deleting": false
          }
        },
        "execution": {
          "iopub.status.busy": "2020-09-13T01:57:07.032Z",
          "iopub.execute_input": "2020-09-13T01:57:07.035Z",
          "iopub.status.idle": "2020-09-13T01:57:08.871Z"
        }
      }
    },
    {
      "cell_type": "code",
      "source": [
        "# use arithmetic series identity to find sum of all numbers less than max_num\n",
        "sum = max_num*(max_num+1)/2"
      ],
      "outputs": [
        {
          "output_type": "execute_result",
          "execution_count": 70,
          "data": {
            "text/plain": "2.03243041e8"
          },
          "metadata": {}
        }
      ],
      "execution_count": 70,
      "metadata": {
        "collapsed": true,
        "jupyter": {
          "source_hidden": false,
          "outputs_hidden": false
        },
        "nteract": {
          "transient": {
            "deleting": false
          }
        },
        "execution": {
          "iopub.status.busy": "2020-09-13T01:57:08.878Z",
          "iopub.execute_input": "2020-09-13T01:57:08.882Z",
          "iopub.status.idle": "2020-09-13T01:57:08.892Z"
        }
      }
    },
    {
      "cell_type": "code",
      "source": [
        "# now iterate through all values in the abundants array\n",
        "# inside each of these iteration, use a while loop "
      ],
      "outputs": [],
      "execution_count": 71,
      "metadata": {
        "collapsed": true,
        "jupyter": {
          "source_hidden": false,
          "outputs_hidden": false
        },
        "nteract": {
          "transient": {
            "deleting": false
          }
        },
        "execution": {
          "iopub.status.busy": "2020-09-13T01:57:08.899Z",
          "iopub.execute_input": "2020-09-13T01:57:08.902Z",
          "iopub.status.idle": "2020-09-13T01:57:08.910Z"
        }
      }
    },
    {
      "cell_type": "code",
      "source": [
        "length(abundants)"
      ],
      "outputs": [
        {
          "output_type": "execute_result",
          "execution_count": 72,
          "data": {
            "text/plain": "4994"
          },
          "metadata": {}
        }
      ],
      "execution_count": 72,
      "metadata": {
        "collapsed": true,
        "jupyter": {
          "source_hidden": false,
          "outputs_hidden": false
        },
        "nteract": {
          "transient": {
            "deleting": false
          }
        },
        "execution": {
          "iopub.status.busy": "2020-09-13T01:57:08.918Z",
          "iopub.execute_input": "2020-09-13T01:57:08.923Z",
          "iopub.status.idle": "2020-09-13T01:57:08.932Z"
        }
      }
    },
    {
      "cell_type": "code",
      "source": [
        "# Create a list of boolean values to represent all values from 1 to 28123.\n",
        "# Initialize them all to True.\n",
        "number_list = fill(true, (1,max_num));\n",
        "\n",
        "# Loop through all values in abundants and add them to all of the other values in abundants.\n",
        "# For each of these sums that is below max_num, set the value at that index in number_list to false.\n",
        "for ii in 1:length(abundants)\n",
        "  for jj in 1:length(abundants)\n",
        "    temp_val = abundants[ii] + abundants[jj];\n",
        "    if(temp_val <= max_num)\n",
        "      number_list[temp_val] = false;\n",
        "    end\n",
        "  end\n",
        "end"
      ],
      "outputs": [],
      "execution_count": 73,
      "metadata": {
        "collapsed": true,
        "jupyter": {
          "source_hidden": false,
          "outputs_hidden": false
        },
        "nteract": {
          "transient": {
            "deleting": false
          }
        },
        "execution": {
          "iopub.status.busy": "2020-09-13T01:57:08.937Z",
          "iopub.execute_input": "2020-09-13T01:57:08.940Z",
          "iopub.status.idle": "2020-09-13T01:57:12.213Z"
        }
      }
    },
    {
      "cell_type": "code",
      "source": [
        "# Add up all the values that still contain the value True in the number_list\n",
        "total = 0;\n",
        "for ii in 1:length(number_list)\n",
        "  if(number_list[ii])\n",
        "    total += ii;\n",
        "  end\n",
        "end\n",
        "total"
      ],
      "outputs": [
        {
          "output_type": "execute_result",
          "execution_count": 74,
          "data": {
            "text/plain": "4179871"
          },
          "metadata": {}
        }
      ],
      "execution_count": 74,
      "metadata": {
        "collapsed": true,
        "jupyter": {
          "source_hidden": false,
          "outputs_hidden": false
        },
        "nteract": {
          "transient": {
            "deleting": false
          }
        },
        "execution": {
          "iopub.status.busy": "2020-09-13T01:57:12.218Z",
          "iopub.execute_input": "2020-09-13T01:57:12.223Z",
          "iopub.status.idle": "2020-09-13T01:57:12.231Z"
        }
      }
    },
    {
      "cell_type": "code",
      "source": [],
      "outputs": [],
      "execution_count": null,
      "metadata": {
        "collapsed": true,
        "jupyter": {
          "source_hidden": false,
          "outputs_hidden": false
        },
        "nteract": {
          "transient": {
            "deleting": false
          }
        }
      }
    },
    {
      "cell_type": "code",
      "source": [],
      "outputs": [],
      "execution_count": null,
      "metadata": {
        "collapsed": true,
        "jupyter": {
          "source_hidden": false,
          "outputs_hidden": false
        },
        "nteract": {
          "transient": {
            "deleting": false
          }
        }
      }
    }
  ],
  "metadata": {
    "kernel_info": {
      "name": "julia-1.5"
    },
    "language_info": {
      "file_extension": ".jl",
      "name": "julia",
      "mimetype": "application/julia",
      "version": "1.5.1"
    },
    "kernelspec": {
      "argv": [
        "C:\\Users\\jwrus\\AppData\\Local\\Programs\\Julia 1.5.1\\bin\\julia.exe",
        "-i",
        "--startup-file=yes",
        "--color=yes",
        "--project=@.",
        "C:\\Users\\jwrus\\.julia\\packages\\IJulia\\tOM8L\\src\\kernel.jl",
        "{connection_file}"
      ],
      "display_name": "Julia 1.5.1",
      "env": {},
      "interrupt_mode": "message",
      "language": "julia",
      "name": "julia-1.5"
    },
    "nteract": {
      "version": "0.25.0"
    }
  },
  "nbformat": 4,
  "nbformat_minor": 0
}