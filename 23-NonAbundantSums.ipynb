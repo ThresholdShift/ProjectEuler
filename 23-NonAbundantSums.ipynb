{
  "cells": [
    {
      "cell_type": "code",
      "source": [
        "# declare whatever constants are needed\n",
        "max_num = 20161;"
      ],
      "outputs": [],
      "execution_count": 11,
      "metadata": {
        "collapsed": true,
        "jupyter": {
          "source_hidden": false,
          "outputs_hidden": false
        },
        "nteract": {
          "transient": {
            "deleting": false
          }
        },
        "execution": {
          "iopub.status.busy": "2020-09-13T02:52:23.618Z",
          "iopub.execute_input": "2020-09-13T02:52:23.624Z",
          "iopub.status.idle": "2020-09-13T02:52:23.632Z"
        }
      }
    },
    {
      "cell_type": "code",
      "source": [
        "# start creating a function to determine if a number is abundant\n",
        "function is_abundant(n)\n",
        "  sum = 0;\n",
        "  for ii in 1:ceil(sqrt(n))\n",
        "    if( n % ii == 0)\n",
        "      sum += ii;\n",
        "    end\n",
        "  end\n",
        "  return (sum > n)\n",
        "end"
      ],
      "outputs": [
        {
          "output_type": "execute_result",
          "execution_count": 19,
          "data": {
            "text/plain": "is_abundant (generic function with 1 method)"
          },
          "metadata": {}
        }
      ],
      "execution_count": 19,
      "metadata": {
        "collapsed": true,
        "jupyter": {
          "source_hidden": false,
          "outputs_hidden": false
        },
        "nteract": {
          "transient": {
            "deleting": false
          }
        },
        "execution": {
          "iopub.status.busy": "2020-09-13T02:52:32.623Z",
          "iopub.execute_input": "2020-09-13T02:52:32.630Z",
          "iopub.status.idle": "2020-09-13T02:52:32.642Z"
        }
      }
    },
    {
      "cell_type": "code",
      "source": [
        "# then generate a list of all abundant numbers less than 28123\n",
        "abundants = [];\n",
        "for ii in 1:max_num\n",
        "  if(is_abundant(ii))\n",
        "    push!(abundants, ii);\n",
        "  end\n",
        "end"
      ],
      "outputs": [],
      "execution_count": 13,
      "metadata": {
        "collapsed": true,
        "jupyter": {
          "source_hidden": false,
          "outputs_hidden": false
        },
        "nteract": {
          "transient": {
            "deleting": false
          }
        },
        "execution": {
          "iopub.status.busy": "2020-09-13T02:52:23.660Z",
          "iopub.execute_input": "2020-09-13T02:52:23.663Z",
          "iopub.status.idle": "2020-09-13T02:52:25.422Z"
        }
      }
    },
    {
      "cell_type": "code",
      "source": [
        "# use arithmetic series identity to find sum of all numbers less than max_num\n",
        "sum = max_num*(max_num+1)/2"
      ],
      "outputs": [
        {
          "output_type": "execute_result",
          "execution_count": 14,
          "data": {
            "text/plain": "2.03243041e8"
          },
          "metadata": {}
        }
      ],
      "execution_count": 14,
      "metadata": {
        "collapsed": true,
        "jupyter": {
          "source_hidden": false,
          "outputs_hidden": false
        },
        "nteract": {
          "transient": {
            "deleting": false
          }
        },
        "execution": {
          "iopub.status.busy": "2020-09-13T02:52:25.428Z",
          "iopub.execute_input": "2020-09-13T02:52:25.431Z",
          "iopub.status.idle": "2020-09-13T02:52:25.441Z"
        }
      }
    },
    {
      "cell_type": "code",
      "source": [
        "# now iterate through all values in the abundants array\n",
        "# inside each of these iteration, use a while loop "
      ],
      "outputs": [],
      "execution_count": 15,
      "metadata": {
        "collapsed": true,
        "jupyter": {
          "source_hidden": false,
          "outputs_hidden": false
        },
        "nteract": {
          "transient": {
            "deleting": false
          }
        },
        "execution": {
          "iopub.status.busy": "2020-09-13T02:52:25.451Z",
          "iopub.execute_input": "2020-09-13T02:52:25.454Z",
          "iopub.status.idle": "2020-09-13T02:52:25.463Z"
        }
      }
    },
    {
      "cell_type": "code",
      "source": [
        "length(abundants)"
      ],
      "outputs": [
        {
          "output_type": "execute_result",
          "execution_count": 16,
          "data": {
            "text/plain": "4994"
          },
          "metadata": {}
        }
      ],
      "execution_count": 16,
      "metadata": {
        "collapsed": true,
        "jupyter": {
          "source_hidden": false,
          "outputs_hidden": false
        },
        "nteract": {
          "transient": {
            "deleting": false
          }
        },
        "execution": {
          "iopub.status.busy": "2020-09-13T02:52:25.471Z",
          "iopub.execute_input": "2020-09-13T02:52:25.476Z",
          "iopub.status.idle": "2020-09-13T02:52:25.484Z"
        }
      }
    },
    {
      "cell_type": "code",
      "source": [
        "# Create a list of boolean values to represent all values from 1 to 28123.\n",
        "# Initialize them all to True.\n",
        "number_list = fill(true, (1,max_num));\n",
        "\n",
        "# Loop through all values in abundants and add them to all of the other values in abundants.\n",
        "# For each of these sums that is below max_num, set the value at that index in number_list to false.\n",
        "for ii in 1:length(abundants)\n",
        "  for jj in 1:length(abundants)\n",
        "    temp_val = abundants[ii] + abundants[jj];\n",
        "    if(temp_val <= max_num)\n",
        "      number_list[temp_val] = false;\n",
        "    end\n",
        "  end\n",
        "end"
      ],
      "outputs": [],
      "execution_count": 17,
      "metadata": {
        "collapsed": true,
        "jupyter": {
          "source_hidden": false,
          "outputs_hidden": false
        },
        "nteract": {
          "transient": {
            "deleting": false
          }
        },
        "execution": {
          "iopub.status.busy": "2020-09-13T02:52:25.490Z",
          "iopub.execute_input": "2020-09-13T02:52:25.495Z",
          "iopub.status.idle": "2020-09-13T02:52:28.717Z"
        }
      }
    },
    {
      "cell_type": "code",
      "source": [
        "# Add up all the values that still contain the value True in the number_list\n",
        "total = 0;\n",
        "for ii in 1:length(number_list)\n",
        "  if(number_list[ii])\n",
        "    total += ii;\n",
        "  end\n",
        "end\n",
        "total"
      ],
      "outputs": [
        {
          "output_type": "execute_result",
          "execution_count": 18,
          "data": {
            "text/plain": "4179871"
          },
          "metadata": {}
        }
      ],
      "execution_count": 18,
      "metadata": {
        "collapsed": true,
        "jupyter": {
          "source_hidden": false,
          "outputs_hidden": false
        },
        "nteract": {
          "transient": {
            "deleting": false
          }
        },
        "execution": {
          "iopub.status.busy": "2020-09-13T02:52:28.726Z",
          "iopub.execute_input": "2020-09-13T02:52:28.731Z",
          "iopub.status.idle": "2020-09-13T02:52:28.739Z"
        }
      }
    },
    {
      "cell_type": "code",
      "source": [],
      "outputs": [],
      "execution_count": null,
      "metadata": {
        "collapsed": true,
        "jupyter": {
          "source_hidden": false,
          "outputs_hidden": false
        },
        "nteract": {
          "transient": {
            "deleting": false
          }
        }
      }
    },
    {
      "cell_type": "code",
      "source": [],
      "outputs": [],
      "execution_count": null,
      "metadata": {
        "collapsed": true,
        "jupyter": {
          "source_hidden": false,
          "outputs_hidden": false
        },
        "nteract": {
          "transient": {
            "deleting": false
          }
        }
      }
    }
  ],
  "metadata": {
    "kernel_info": {
      "name": "julia-1.5"
    },
    "language_info": {
      "file_extension": ".jl",
      "name": "julia",
      "mimetype": "application/julia",
      "version": "1.5.1"
    },
    "kernelspec": {
      "argv": [
        "C:\\Users\\jwrus\\AppData\\Local\\Programs\\Julia 1.5.1\\bin\\julia.exe",
        "-i",
        "--startup-file=yes",
        "--color=yes",
        "--project=@.",
        "C:\\Users\\jwrus\\.julia\\packages\\IJulia\\tOM8L\\src\\kernel.jl",
        "{connection_file}"
      ],
      "display_name": "Julia 1.5.1",
      "env": {},
      "interrupt_mode": "message",
      "language": "julia",
      "name": "julia-1.5"
    },
    "nteract": {
      "version": "0.25.0"
    }
  },
  "nbformat": 4,
  "nbformat_minor": 0
}